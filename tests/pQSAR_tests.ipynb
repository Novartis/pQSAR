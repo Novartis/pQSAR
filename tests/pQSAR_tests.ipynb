{
 "cells": [
  {
   "cell_type": "markdown",
   "metadata": {},
   "source": [
    "***\n",
    "Copyright 2021 Novartis Institutes for BioMedical Research Inc.\n",
    "\n",
    "Licensed under the Apache License, Version 2.0 (the \"License\");\n",
    "you may not use this file except in compliance with the License.\n",
    "You may obtain a copy of the License at\n",
    "\n",
    "http://www.apache.org/licenses/LICENSE-2.0\n",
    "\n",
    "Unless required by applicable law or agreed to in writing, software\n",
    "distributed under the License is distributed on an \"AS IS\" BASIS,\n",
    "WITHOUT WARRANTIES OR CONDITIONS OF ANY KIND, either express or implied.\n",
    "See the License for the specific language governing permissions and\n",
    "limitations under the License.\n",
    "***"
   ]
  },
  {
   "cell_type": "markdown",
   "metadata": {},
   "source": [
    "# Profile-QSAR performance"
   ]
  },
  {
   "cell_type": "code",
   "execution_count": 2,
   "metadata": {},
   "outputs": [],
   "source": [
    "import pandas as pd\n",
    "import matplotlib\n",
    "import matplotlib.pyplot as plt"
   ]
  },
  {
   "cell_type": "code",
   "execution_count": 3,
   "metadata": {},
   "outputs": [],
   "source": [
    "pqsar_summary = '../chembl_28/Summary_pQSAR/SummaryPQSAR.csv'"
   ]
  },
  {
   "cell_type": "code",
   "execution_count": 4,
   "metadata": {},
   "outputs": [],
   "source": [
    "df = pd.read_csv(pqsar_summary, index_col=0, header=0, sep=',')"
   ]
  },
  {
   "cell_type": "code",
   "execution_count": 10,
   "metadata": {},
   "outputs": [
    {
     "data": {
      "text/html": [
       "<div>\n",
       "<style scoped>\n",
       "    .dataframe tbody tr th:only-of-type {\n",
       "        vertical-align: middle;\n",
       "    }\n",
       "\n",
       "    .dataframe tbody tr th {\n",
       "        vertical-align: top;\n",
       "    }\n",
       "\n",
       "    .dataframe thead th {\n",
       "        text-align: right;\n",
       "    }\n",
       "</style>\n",
       "<table border=\"1\" class=\"dataframe\">\n",
       "  <thead>\n",
       "    <tr style=\"text-align: right;\">\n",
       "      <th></th>\n",
       "      <th>R^2_RF(ext)</th>\n",
       "      <th>Count(molecules)</th>\n",
       "      <th>R^2_RF(random)</th>\n",
       "      <th>Actives(&gt;=6)</th>\n",
       "      <th>pIC50_min</th>\n",
       "      <th>pIC50_max</th>\n",
       "      <th>STD(pIC50)</th>\n",
       "      <th>R2ext</th>\n",
       "      <th>NV</th>\n",
       "      <th>Q2orig</th>\n",
       "      <th>...</th>\n",
       "      <th>assay_type</th>\n",
       "      <th>site_name</th>\n",
       "      <th>target_type</th>\n",
       "      <th>pref_name</th>\n",
       "      <th>organism</th>\n",
       "      <th>assay_organism</th>\n",
       "      <th>assay_strain</th>\n",
       "      <th>assay_tissue</th>\n",
       "      <th>assay_cell_type</th>\n",
       "      <th>confidence_score</th>\n",
       "    </tr>\n",
       "    <tr>\n",
       "      <th>AssayID</th>\n",
       "      <th></th>\n",
       "      <th></th>\n",
       "      <th></th>\n",
       "      <th></th>\n",
       "      <th></th>\n",
       "      <th></th>\n",
       "      <th></th>\n",
       "      <th></th>\n",
       "      <th></th>\n",
       "      <th></th>\n",
       "      <th></th>\n",
       "      <th></th>\n",
       "      <th></th>\n",
       "      <th></th>\n",
       "      <th></th>\n",
       "      <th></th>\n",
       "      <th></th>\n",
       "      <th></th>\n",
       "      <th></th>\n",
       "      <th></th>\n",
       "      <th></th>\n",
       "    </tr>\n",
       "  </thead>\n",
       "  <tbody>\n",
       "    <tr>\n",
       "      <th>CHEMBL1000361</th>\n",
       "      <td>0.63</td>\n",
       "      <td>63</td>\n",
       "      <td>0.46</td>\n",
       "      <td>50</td>\n",
       "      <td>4.46</td>\n",
       "      <td>8.70</td>\n",
       "      <td>0.83</td>\n",
       "      <td>0.56</td>\n",
       "      <td>2</td>\n",
       "      <td>0.37</td>\n",
       "      <td>...</td>\n",
       "      <td>B</td>\n",
       "      <td>Serine/threonine-protein kinase Chk1 , Pkinase...</td>\n",
       "      <td>SINGLE PROTEIN</td>\n",
       "      <td>Serine/threonine-protein kinase Chk1</td>\n",
       "      <td>Homo sapiens</td>\n",
       "      <td>--</td>\n",
       "      <td>--</td>\n",
       "      <td>--</td>\n",
       "      <td>--</td>\n",
       "      <td>8</td>\n",
       "    </tr>\n",
       "    <tr>\n",
       "      <th>CHEMBL1000710</th>\n",
       "      <td>0.37</td>\n",
       "      <td>81</td>\n",
       "      <td>0.54</td>\n",
       "      <td>69</td>\n",
       "      <td>5.05</td>\n",
       "      <td>7.92</td>\n",
       "      <td>0.62</td>\n",
       "      <td>0.34</td>\n",
       "      <td>3</td>\n",
       "      <td>0.59</td>\n",
       "      <td>...</td>\n",
       "      <td>B</td>\n",
       "      <td>Serotonin 7 (5-HT7) receptor, 7tm_1 domain</td>\n",
       "      <td>SINGLE PROTEIN</td>\n",
       "      <td>Serotonin 7 (5-HT7) receptor</td>\n",
       "      <td>Homo sapiens</td>\n",
       "      <td>--</td>\n",
       "      <td>--</td>\n",
       "      <td>--</td>\n",
       "      <td>--</td>\n",
       "      <td>8</td>\n",
       "    </tr>\n",
       "  </tbody>\n",
       "</table>\n",
       "<p>2 rows × 33 columns</p>\n",
       "</div>"
      ],
      "text/plain": [
       "               R^2_RF(ext)  Count(molecules)  R^2_RF(random)  Actives(>=6)  \\\n",
       "AssayID                                                                      \n",
       "CHEMBL1000361         0.63                63            0.46            50   \n",
       "CHEMBL1000710         0.37                81            0.54            69   \n",
       "\n",
       "               pIC50_min  pIC50_max  STD(pIC50)  R2ext  NV  Q2orig  ...  \\\n",
       "AssayID                                                             ...   \n",
       "CHEMBL1000361       4.46       8.70        0.83   0.56   2    0.37  ...   \n",
       "CHEMBL1000710       5.05       7.92        0.62   0.34   3    0.59  ...   \n",
       "\n",
       "               assay_type                                          site_name  \\\n",
       "AssayID                                                                        \n",
       "CHEMBL1000361           B  Serine/threonine-protein kinase Chk1 , Pkinase...   \n",
       "CHEMBL1000710           B         Serotonin 7 (5-HT7) receptor, 7tm_1 domain   \n",
       "\n",
       "                  target_type                             pref_name  \\\n",
       "AssayID                                                               \n",
       "CHEMBL1000361  SINGLE PROTEIN  Serine/threonine-protein kinase Chk1   \n",
       "CHEMBL1000710  SINGLE PROTEIN          Serotonin 7 (5-HT7) receptor   \n",
       "\n",
       "                   organism  assay_organism  assay_strain  assay_tissue  \\\n",
       "AssayID                                                                   \n",
       "CHEMBL1000361  Homo sapiens              --            --            --   \n",
       "CHEMBL1000710  Homo sapiens              --            --            --   \n",
       "\n",
       "              assay_cell_type confidence_score  \n",
       "AssayID                                         \n",
       "CHEMBL1000361              --                8  \n",
       "CHEMBL1000710              --                8  \n",
       "\n",
       "[2 rows x 33 columns]"
      ]
     },
     "execution_count": 10,
     "metadata": {},
     "output_type": "execute_result"
    }
   ],
   "source": [
    "df.head(2)"
   ]
  },
  {
   "cell_type": "markdown",
   "metadata": {},
   "source": [
    " ## Key columns in the summary file"
   ]
  },
  {
   "cell_type": "markdown",
   "metadata": {},
   "source": [
    "* CDS_ID: Assay ID \n",
    "* Count(molecules): count (should be >50)\n",
    "* Actives(>=6): no. actives < 1 uM (should be >6)\n",
    "* std(pIC50): Standard deviation of assay data, a measure of dynamic range. (should be >0.5)\n",
    "* R^2_RF(ext): correlation with experiment of single-assay random forest regression model based on realistic test sets for comparison to pQSAR\n",
    "* R^2_RF(random): correlation with experiment of single-assay random forest regression model based on random split test sets for comparison to pQSAR\n",
    "* Q2orig: pQSAR 5x cross-validated R2 on random test set. This is good for near analogs of training set (should be >0.3, but less can be OK)\n",
    "* R2ext: pQSAR R2 on realistic test set. This is most important for novel chemistry (best if >0.3)\n",
    "* Stdev_pred:  standard deviation of 5.5M predictions used for Z-scaling\n",
    "* mean_pred:  mean of 5.5M predictions used for Z-scaling\n"
   ]
  },
  {
   "cell_type": "code",
   "execution_count": 5,
   "metadata": {},
   "outputs": [],
   "source": [
    "def rank_order_plot(df):\n",
    "    colors = ['k', 'r', 'b', 'lime', 'y', 'm', 'g']\n",
    "    font = {'family': 'normal', 'weight': 'normal', 'size': 20}\n",
    "    matplotlib.rc('font', **font)\n",
    "    plt.figure(figsize=(9.0, 6.0))\n",
    "    plt.style.use('seaborn-whitegrid')\n",
    "    cols_name = list(df.columns)\n",
    "    for i, col in enumerate(cols_name):\n",
    "        plt.plot(range(len(df[col])), df[col].sort_values(ascending=False), lw=1.5, linestyle='-', color=colors[i], label=col)\n",
    "\n",
    "    plt.grid(which='major', axis='both', linestyle='--')\n",
    "    axes = plt.gca()\n",
    "    axes.set_ylim(0, 1)\n",
    "    axes.set_xlim(0, int(len(df) * 1.02))\n",
    "    axes.legend(loc='best', prop={'size': 12})\n",
    "\n",
    "    plt.ylabel('$R^2_{ext}$')\n",
    "    plt.xlabel('ChEMBL ({} assays)'.format(len(df)))\n",
    "    plt.tight_layout()"
   ]
  },
  {
   "cell_type": "code",
   "execution_count": 6,
   "metadata": {},
   "outputs": [],
   "source": [
    "def r2_stats(df):\n",
    "    cols = list(df.columns)\n",
    "    num = len(df)\n",
    "    stat = pd.DataFrame(0.0, index=cols, columns = ['%R2ext>0.30', '#R2ext>0.30','median R2ext'])\n",
    "    for c in cols:\n",
    "        stat.loc[c, '#R2ext>0.30'] = sum(df[c] >= 0.30)\n",
    "        stat.loc[c, '%R2ext>0.30'] = sum(df[c] >= 0.30) / num\n",
    "        stat.loc[c, 'median R2ext'] = df[c].median()\n",
    "    return(stat)"
   ]
  },
  {
   "cell_type": "markdown",
   "metadata": {},
   "source": [
    "## Comparing pQSAR(R2ext) with random forest models"
   ]
  },
  {
   "cell_type": "code",
   "execution_count": 7,
   "metadata": {},
   "outputs": [],
   "source": [
    "df_subset = df[['R^2_RF(ext)', 'R^2_RF(random)', 'Q2orig', 'R2ext']]"
   ]
  },
  {
   "cell_type": "code",
   "execution_count": 8,
   "metadata": {},
   "outputs": [
    {
     "data": {
      "image/png": "[encoded data removed]",
      "text/plain": [
       "<Figure size 648x432 with 1 Axes>"
      ]
     },
     "metadata": {
      "needs_background": "light"
     },
     "output_type": "display_data"
    }
   ],
   "source": [
    "rank_order_plot(df_subset)"
   ]
  },
  {
   "cell_type": "code",
   "execution_count": 9,
   "metadata": {},
   "outputs": [
    {
     "data": {
      "text/html": [
       "<div>\n",
       "<style scoped>\n",
       "    .dataframe tbody tr th:only-of-type {\n",
       "        vertical-align: middle;\n",
       "    }\n",
       "\n",
       "    .dataframe tbody tr th {\n",
       "        vertical-align: top;\n",
       "    }\n",
       "\n",
       "    .dataframe thead th {\n",
       "        text-align: right;\n",
       "    }\n",
       "</style>\n",
       "<table border=\"1\" class=\"dataframe\">\n",
       "  <thead>\n",
       "    <tr style=\"text-align: right;\">\n",
       "      <th></th>\n",
       "      <th>%R2ext&gt;0.30</th>\n",
       "      <th>#R2ext&gt;0.30</th>\n",
       "      <th>median R2ext</th>\n",
       "    </tr>\n",
       "  </thead>\n",
       "  <tbody>\n",
       "    <tr>\n",
       "      <th>R^2_RF(ext)</th>\n",
       "      <td>0.288759</td>\n",
       "      <td>1287.0</td>\n",
       "      <td>0.16</td>\n",
       "    </tr>\n",
       "    <tr>\n",
       "      <th>R^2_RF(random)</th>\n",
       "      <td>0.532421</td>\n",
       "      <td>2373.0</td>\n",
       "      <td>0.32</td>\n",
       "    </tr>\n",
       "    <tr>\n",
       "      <th>Q2orig</th>\n",
       "      <td>0.763967</td>\n",
       "      <td>3405.0</td>\n",
       "      <td>0.55</td>\n",
       "    </tr>\n",
       "    <tr>\n",
       "      <th>R2ext</th>\n",
       "      <td>0.666592</td>\n",
       "      <td>2971.0</td>\n",
       "      <td>0.48</td>\n",
       "    </tr>\n",
       "  </tbody>\n",
       "</table>\n",
       "</div>"
      ],
      "text/plain": [
       "                %R2ext>0.30  #R2ext>0.30  median R2ext\n",
       "R^2_RF(ext)        0.288759       1287.0          0.16\n",
       "R^2_RF(random)     0.532421       2373.0          0.32\n",
       "Q2orig             0.763967       3405.0          0.55\n",
       "R2ext              0.666592       2971.0          0.48"
      ]
     },
     "execution_count": 9,
     "metadata": {},
     "output_type": "execute_result"
    }
   ],
   "source": [
    "r2_stats(df_subset)"
   ]
  },
  {
   "cell_type": "markdown",
   "metadata": {},
   "source": []
  },
  {
   "cell_type": "code",
   "execution_count": null,
   "metadata": {},
   "outputs": [],
   "source": []
  }
 ],
 "metadata": {
  "kernelspec": {
   "display_name": "PythonDS v0.8",
   "language": "python",
   "name": "py_v0.8"
  },
  "language_info": {
   "codemirror_mode": {
    "name": "ipython",
    "version": 3
   },
   "file_extension": ".py",
   "mimetype": "text/x-python",
   "name": "python",
   "nbconvert_exporter": "python",
   "pygments_lexer": "ipython3",
   "version": "3.8.6"
  }
 },
 "nbformat": 4,
 "nbformat_minor": 4
}
